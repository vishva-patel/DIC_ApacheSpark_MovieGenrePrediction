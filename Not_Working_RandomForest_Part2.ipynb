{
 "cells": [
  {
   "cell_type": "markdown",
   "metadata": {},
   "source": [
    "# DIC - Assignment - 3"
   ]
  },
  {
   "cell_type": "code",
   "execution_count": 1,
   "metadata": {},
   "outputs": [],
   "source": [
    "# pip install pyspark==2.4.0 findspark numpy"
   ]
  },
  {
   "cell_type": "code",
   "execution_count": 2,
   "metadata": {},
   "outputs": [],
   "source": [
    "# pip list --format=columns3"
   ]
  },
  {
   "cell_type": "code",
   "execution_count": 3,
   "metadata": {},
   "outputs": [],
   "source": [
    "# Imports and pyspark config. data from Demo video:\n",
    "import findspark\n",
    "from pyspark.sql import SparkSession\n",
    "from pyspark.sql.types import *\n",
    "\n",
    "# Import module\n",
    "import os\n",
    "import csv\n",
    "import json\n",
    "import re"
   ]
  },
  {
   "cell_type": "code",
   "execution_count": 4,
   "metadata": {},
   "outputs": [
    {
     "name": "stdout",
     "output_type": "stream",
     "text": [
      "[\n",
      "  {\n",
      "    \"genre\": [\n",
      "      \"drama\",\n",
      "      \"world cinema\"\n",
      "    ],\n",
      "    \"movie_id\": 23890098,\n",
      "    \"movie_name\": \"Taxi Blues\",\n",
      "    \"plot\": \"Shlykov, a hard-working taxi driver and Lyosha, a saxophonist, develop a bizarre love-hate relationship, and despite their prejudices, realize they aren't so different after all.\",\n",
      "    \"plot_normalized\": \"shlykov a hard working taxi driver and lyosha a saxophonist develop a bizarre love hate relationship and despite their prejudices realize they aren t so different after all\"\n",
      "  }\n",
      "]\n"
     ]
    }
   ],
   "source": [
    "# Part1DataFrame = spark.read.csv(\n",
    "#     \"/home/cse587/Desktop/Proj3/train.csv\", \n",
    "#     header=True, schema=Proj3Part1, sep=\",\")\n",
    "# #show 3 rows of our DataFrame\n",
    "# Part1DataFrame.show(20) ##### ERROR: Not working on train.csv even with \",\" separator...\n",
    "\n",
    "# read csv file with our defined schema into Spark DataFrame, and use \",\" delimiter\n",
    "folder_path = \"/home/cse587/Desktop/Proj3\"\n",
    "file_name = \"train.csv\"\n",
    "\n",
    "#file_path = f\"{folder_path}/{file_name}\"\n",
    "file_path = \"train.csv\"\n",
    "\n",
    "file_data = []\n",
    "keys_processed = []\n",
    "all_genres = [] # Holds unique genre values from train file\n",
    "with open(file_path,\"r\") as csv_file:\n",
    "    csv_reader = csv.DictReader(csv_file,delimiter=\",\")\n",
    "    \n",
    "    for row in csv_reader:\n",
    "        movie_id = row.get(\"movie_id\")\n",
    "        movie_id = int(movie_id) if movie_id else None\n",
    "        movie_name = str(row.get(\"movie_name\") or \"\").strip()\n",
    "        plot = str(row.get(\"plot\") or \"\").strip()\n",
    "        \n",
    "        genre = row.get(\"genre\") #Parse genre into an array as final value\n",
    "        \n",
    "        try:\n",
    "            genre = genre.replace(\"[\", \"\").replace(\"]\", \"\").replace(\"'\", \"\").split(\",\")\n",
    "        except Exception as err:\n",
    "            print(genre, err)\n",
    "        \n",
    "        \n",
    "        if isinstance(genre, list):\n",
    "            genre_normalized = []\n",
    "            for item in genre:\n",
    "                val = str(item).strip().lower() if item else None\n",
    "                if val:\n",
    "                    genre_normalized.append(val)\n",
    "                    all_genres.append(val)\n",
    "            genre = genre_normalized\n",
    "        elif isinstance(genre, str):\n",
    "            if genre:\n",
    "                val = str(genre).strip().lower()\n",
    "                all_genres.append(val)\n",
    "                genre = [val]\n",
    "        else:\n",
    "            genre = []\n",
    "        \n",
    "        genre.sort() # Store in sorted order\n",
    "        \n",
    "        \n",
    "        # Clean up the plot\n",
    "        plot_norm = None\n",
    "        try:\n",
    "            _norm = str(plot).lower().strip()\n",
    "            _norm = re.sub(r\"[^a-z]+\", \" \", _norm)            \n",
    "            _arr = _norm.split(\" \")\n",
    "            plot_norm = \" \".join(_arr).strip()\n",
    "        except Exception as err:\n",
    "            print(err)\n",
    "        \n",
    "                \n",
    "        row_data = [\n",
    "            movie_id,\n",
    "            movie_name,\n",
    "            plot,\n",
    "            plot_norm,\n",
    "            genre,\n",
    "            \n",
    "        ]\n",
    "        \n",
    "        movie_key = (movie_id, movie_name)\n",
    "        \n",
    "        if not all(row_data) or movie_key in keys_processed:\n",
    "            continue\n",
    "            \n",
    "        #making a dict for file_data:\n",
    "        keys_processed.append(movie_key)\n",
    "        file_data.append({\n",
    "            \"movie_id\": movie_id,\n",
    "            \"movie_name\": movie_name,\n",
    "            \"plot\": plot,\n",
    "            \"plot_normalized\": plot_norm,\n",
    "            \"genre\": genre,\n",
    "        })\n",
    "\n",
    "# all_genres = list(set(all_genres)) # Ensure only unique values are stored in lowercase\n",
    "# all_genres.sort() # Store in sorted order\n",
    "\n",
    "#all_genres as per mapping.csv file\n",
    "all_genres = ['drama', 'comedy', 'romance film', 'thriller', 'action', 'world cinema', 'crime fiction', 'horror', 'black-and-white', 'indie', 'action/adventure', 'adventure', 'family film', 'short film', 'romantic drama', 'animation', 'musical', 'science fiction', 'mystery', 'romantic comedy']\n",
    "\n",
    "# all_genres = list(set(all_genres))\n",
    "# print(len(all_genres), all_genres)\n",
    "\n",
    "print(json.dumps(file_data[0:1], sort_keys=True, indent=2))"
   ]
  },
  {
   "cell_type": "code",
   "execution_count": 5,
   "metadata": {},
   "outputs": [
    {
     "name": "stdout",
     "output_type": "stream",
     "text": [
      "[\n",
      "  {\n",
      "    \"genre\": [\n",
      "      \"drama\",\n",
      "      \"world cinema\"\n",
      "    ],\n",
      "    \"genre_encoded\": \"10000100000000000000\",\n",
      "    \"movie_id\": 23890098,\n",
      "    \"movie_name\": \"Taxi Blues\",\n",
      "    \"plot\": \"Shlykov, a hard-working taxi driver and Lyosha, a saxophonist, develop a bizarre love-hate relationship, and despite their prejudices, realize they aren't so different after all.\",\n",
      "    \"plot_normalized\": \"shlykov a hard working taxi driver and lyosha a saxophonist develop a bizarre love hate relationship and despite their prejudices realize they aren t so different after all\"\n",
      "  }\n",
      "]\n"
     ]
    }
   ],
   "source": [
    "def encode_genre(movie_genre):\n",
    "    encoded = [\"0\"] * len(all_genres)\n",
    "    for item in movie_genre:\n",
    "        try:\n",
    "            idx = all_genres.index(item)\n",
    "            encoded[idx] = \"1\"\n",
    "        except:\n",
    "            pass\n",
    "    \n",
    "    return \"\".join(encoded)\n",
    "        \n",
    "def decode_genre(encoded_str):\n",
    "    decoded = []\n",
    "    encoded = list(encoded_str)\n",
    "    for idx in range(0, len(encoded)):\n",
    "        if encoded[idx] != \"1\":\n",
    "            continue\n",
    "            \n",
    "        val = all_genres[idx]\n",
    "        decoded.append(val)\n",
    "    return decoded\n",
    "\n",
    "# Transform each movie genre into a matrix\n",
    "for item in file_data:\n",
    "    encoded_val = encode_genre(item['genre'])\n",
    "    item['genre_encoded'] = encoded_val\n",
    "    \n",
    "    # Print a sammple\n",
    "    #print(encoded_val, decode_genre(encoded_val))\n",
    "    \n",
    "#checking if encoder and decoder worked correctly\n",
    "print(json.dumps(file_data[0:1], sort_keys=True, indent=2))"
   ]
  },
  {
   "cell_type": "markdown",
   "metadata": {},
   "source": [
    "### Create session object in order to access all Spark API"
   ]
  },
  {
   "cell_type": "code",
   "execution_count": 6,
   "metadata": {},
   "outputs": [],
   "source": [
    "#spark_folder = \"/home/cse587/spark-2.4.0-bin-hadoop2.7\"\n",
    "spark_folder = \"/usr/local/Cellar/apache-spark/2.4.5/libexec\"\n",
    "\n",
    "findspark.init(spark_home=spark_folder)\n",
    "\n",
    "\n",
    "spark = SparkSession \\\n",
    "    .builder \\\n",
    "    .appName(\"Proj3Part1\") \\\n",
    "    .config(\"spark.driver.memory\", \"4g\") \\\n",
    "    .config(\"spark.executor.memory\", \"4g\") \\\n",
    "    .getOrCreate()"
   ]
  },
  {
   "cell_type": "code",
   "execution_count": 7,
   "metadata": {},
   "outputs": [],
   "source": [
    "#define data schema for file we want to read\n",
    "df_schema = StructType([\n",
    "    StructField(\"movie_id\", IntegerType(), False),\n",
    "    StructField(\"movie_name\", StringType(), False),\n",
    "    StructField(\"plot\", StringType(), False),\n",
    "    StructField(\"plot_normalized\", StringType(), False),\n",
    "    StructField(\"genre\", StringType(), False),\n",
    "    StructField(\"genre_encoded\", StringType(),False),\n",
    "    StructField(\"genre0\", IntegerType(),False),\n",
    "    StructField(\"genre1\", IntegerType(),False),\n",
    "    StructField(\"genre2\", IntegerType(),False),\n",
    "    StructField(\"genre3\", IntegerType(),False),\n",
    "    StructField(\"genre4\", IntegerType(),False),\n",
    "    StructField(\"genre5\", IntegerType(),False),\n",
    "    StructField(\"genre6\", IntegerType(),False),\n",
    "    StructField(\"genre7\", IntegerType(),False),\n",
    "    StructField(\"genre8\", IntegerType(),False),\n",
    "    StructField(\"genre9\", IntegerType(),False),\n",
    "    StructField(\"genre10\", IntegerType(),False),\n",
    "    StructField(\"genre11\", IntegerType(),False),\n",
    "    StructField(\"genre12\", IntegerType(),False),\n",
    "    StructField(\"genre13\", IntegerType(),False),\n",
    "    StructField(\"genre14\", IntegerType(),False),\n",
    "    StructField(\"genre15\", IntegerType(),False),\n",
    "    StructField(\"genre16\", IntegerType(),False),\n",
    "    StructField(\"genre17\", IntegerType(),False),\n",
    "    StructField(\"genre18\", IntegerType(),False),\n",
    "    StructField(\"genre19\", IntegerType(),False)\n",
    "])"
   ]
  },
  {
   "cell_type": "markdown",
   "metadata": {},
   "source": [
    "### Counting number of rows, printing dataframe schema and printing statistic of our data"
   ]
  },
  {
   "cell_type": "code",
   "execution_count": 8,
   "metadata": {},
   "outputs": [
    {
     "name": "stdout",
     "output_type": "stream",
     "text": [
      "StructType(List(StructField(movie_id,IntegerType,false),StructField(movie_name,StringType,false),StructField(plot,StringType,false),StructField(plot_normalized,StringType,false),StructField(genre,StringType,false),StructField(genre_encoded,StringType,false),StructField(genre0,IntegerType,false),StructField(genre1,IntegerType,false),StructField(genre2,IntegerType,false),StructField(genre3,IntegerType,false),StructField(genre4,IntegerType,false),StructField(genre5,IntegerType,false),StructField(genre6,IntegerType,false),StructField(genre7,IntegerType,false),StructField(genre8,IntegerType,false),StructField(genre9,IntegerType,false),StructField(genre10,IntegerType,false),StructField(genre11,IntegerType,false),StructField(genre12,IntegerType,false),StructField(genre13,IntegerType,false),StructField(genre14,IntegerType,false),StructField(genre15,IntegerType,false),StructField(genre16,IntegerType,false),StructField(genre17,IntegerType,false),StructField(genre18,IntegerType,false),StructField(genre19,IntegerType,false)))\n",
      "+--------+--------------------+--------------------+--------------------+--------------------+--------------------+------+------+------+------+------+------+------+------+------+------+-------+-------+-------+-------+-------+-------+-------+-------+-------+-------+\n",
      "|movie_id|          movie_name|                plot|     plot_normalized|               genre|       genre_encoded|genre0|genre1|genre2|genre3|genre4|genre5|genre6|genre7|genre8|genre9|genre10|genre11|genre12|genre13|genre14|genre15|genre16|genre17|genre18|genre19|\n",
      "+--------+--------------------+--------------------+--------------------+--------------------+--------------------+------+------+------+------+------+------+------+------+------+------+-------+-------+-------+-------+-------+-------+-------+-------+-------+-------+\n",
      "|23890098|          Taxi Blues|Shlykov, a hard-w...|shlykov a hard wo...|[drama, world cin...|10000100000000000000|     1|     0|     0|     0|     0|     1|     0|     0|     0|     0|      0|      0|      0|      0|      0|      0|      0|      0|      0|      0|\n",
      "|31186339|    The Hunger Games|The nation of Pan...|the nation of pan...|[action, action/a...|10001000001000000100|     1|     0|     0|     0|     1|     0|     0|     0|     0|     0|      1|      0|      0|      0|      0|      0|      0|      1|      0|      0|\n",
      "|20663735|          Narasimham|Poovalli Induchoo...|poovalli induchoo...|[action, drama, m...|10001000000000001000|     1|     0|     0|     0|     1|     0|     0|     0|     0|     0|      0|      0|      0|      0|      0|      0|      1|      0|      0|      0|\n",
      "| 2231378|  The Lemon Drop Kid|The Lemon Drop Ki...|the lemon drop ki...|            [comedy]|01000000000000000000|     0|     1|     0|     0|     0|     0|     0|     0|     0|     0|      0|      0|      0|      0|      0|      0|      0|      0|      0|      0|\n",
      "|  595909|   A Cry in the Dark|Seventh-day Adven...|seventh day adven...|[crime fiction, d...|10000110000000000000|     1|     0|     0|     0|     0|     1|     1|     0|     0|     0|      0|      0|      0|      0|      0|      0|      0|      0|      0|      0|\n",
      "| 5272176|            End Game|The president is ...|the president is ...|[action, action/a...|10011000001000000000|     1|     0|     0|     1|     1|     0|     0|     0|     0|     0|      1|      0|      0|      0|      0|      0|      0|      0|      0|      0|\n",
      "| 1952976|          Dark Water|{{plot}} The film...|plot the film ope...|[drama, horror, t...|10010001000000000000|     1|     0|     0|     1|     0|     0|     0|     1|     0|     0|      0|      0|      0|      0|      0|      0|      0|      0|      0|      0|\n",
      "|24225279|                Sing|The story begins ...|the story begins ...|             [drama]|10000000000000000000|     1|     0|     0|     0|     0|     0|     0|     0|     0|     0|      0|      0|      0|      0|      0|      0|      0|      0|      0|      0|\n",
      "| 2462689|       Meet John Doe|Infuriated at bei...|infuriated at bei...|[black-and-white,...|11100000100000000001|     1|     1|     1|     0|     0|     0|     0|     0|     1|     0|      0|      0|      0|      0|      0|      0|      0|      0|      0|      1|\n",
      "|20532852|Destination Meatball|A line of people ...|a line of people ...|[animation, famil...|00000000000011010000|     0|     0|     0|     0|     0|     0|     0|     0|     0|     0|      0|      0|      1|      1|      0|      1|      0|      0|      0|      0|\n",
      "|15401493|    Husband for Hire|Lola  attempts to...|lola attempts to ...|            [comedy]|01000000000000000000|     0|     1|     0|     0|     0|     0|     0|     0|     0|     0|      0|      0|      0|      0|      0|      0|      0|      0|      0|      0|\n",
      "|18188932|         Up and Down|Milan and Goran a...|milan and goran a...|[comedy, crime fi...|11000110000000000000|     1|     1|     0|     0|     0|     1|     1|     0|     0|     0|      0|      0|      0|      0|      0|      0|      0|      0|      0|      0|\n",
      "| 2940516|Ghost In The Noon...|Bumbling pirate c...|bumbling pirate c...|            [comedy]|01000000000000000000|     0|     1|     0|     0|     0|     0|     0|     0|     0|     0|      0|      0|      0|      0|      0|      0|      0|      0|      0|      0|\n",
      "| 1480747|       House Party 2|{{plot}} Followin...|plot following th...|            [comedy]|01000000000000000000|     0|     1|     0|     0|     0|     0|     0|     0|     0|     0|      0|      0|      0|      0|      0|      0|      0|      0|      0|      0|\n",
      "|24448645|Forest of the Dam...|Despite Lucy's re...|despite lucy s re...|            [horror]|00000001000000000000|     0|     0|     0|     0|     0|     0|     0|     1|     0|     0|      0|      0|      0|      0|      0|      0|      0|      0|      0|      0|\n",
      "|15072401|Charlie Chan's Se...|Alan Colby, heir ...|alan colby heir t...|[crime fiction, h...|00010011000000000010|     0|     0|     0|     1|     0|     0|     1|     1|     0|     0|      0|      0|      0|      0|      0|      0|      0|      0|      1|      0|\n",
      "| 4018288|     The Biggest Fan|Debbie's favorite...|debbie s favorite...|             [drama]|10000000000000000000|     1|     0|     0|     0|     0|     0|     0|     0|     0|     0|      0|      0|      0|      0|      0|      0|      0|      0|      0|      0|\n",
      "| 4596602|      Ashes to Ashes|Ashes to Ashes is...|ashes to ashes is...|[action, crime fi...|00111010010000000000|     0|     0|     1|     1|     1|     0|     1|     0|     0|     1|      0|      0|      0|      0|      0|      0|      0|      0|      0|      0|\n",
      "|15224586|        Green Dragon|The film follows ...|the film follows ...|      [drama, indie]|10000000010000000000|     1|     0|     0|     0|     0|     0|     0|     0|     0|     1|      0|      0|      0|      0|      0|      0|      0|      0|      0|      0|\n",
      "|15585766|  The Rats of Tobruk|Three friends are...|three friends are...|             [drama]|10000000000000000000|     1|     0|     0|     0|     0|     0|     0|     0|     0|     0|      0|      0|      0|      0|      0|      0|      0|      0|      0|      0|\n",
      "+--------+--------------------+--------------------+--------------------+--------------------+--------------------+------+------+------+------+------+------+------+------+------+------+-------+-------+-------+-------+-------+-------+-------+-------+-------+-------+\n",
      "only showing top 20 rows\n",
      "\n"
     ]
    }
   ],
   "source": [
    "\n",
    "# Create data frame\n",
    "struct_key_map = [\"movie_id\", \"movie_name\", \"plot\", \"plot_normalized\", \"genre\", \"genre_encoded\"]\n",
    "spark_data = []\n",
    "for items in file_data:\n",
    "    data_len = len(struct_key_map)\n",
    "    row = [None] * data_len\n",
    "    \n",
    "    for idx in range(0, data_len):\n",
    "        key = struct_key_map[idx]\n",
    "        row[idx] = items[key]\n",
    "    \n",
    "    row.extend([int(c) for c in items[\"genre_encoded\"]])\n",
    "\n",
    "    spark_data.append(row)\n",
    "    \n",
    "    \n",
    "\n",
    "rdd = spark.sparkContext.parallelize(spark_data)\n",
    "\n",
    "df = spark.createDataFrame(rdd, df_schema)\n",
    "print(df.schema)\n",
    "df.show()"
   ]
  },
  {
   "cell_type": "code",
   "execution_count": 9,
   "metadata": {},
   "outputs": [
    {
     "name": "stdout",
     "output_type": "stream",
     "text": [
      "number of rows:  31108\n",
      "root\n",
      " |-- movie_id: integer (nullable = false)\n",
      " |-- movie_name: string (nullable = false)\n",
      " |-- plot: string (nullable = false)\n",
      " |-- plot_normalized: string (nullable = false)\n",
      " |-- genre: string (nullable = false)\n",
      " |-- genre_encoded: string (nullable = false)\n",
      " |-- genre0: integer (nullable = false)\n",
      " |-- genre1: integer (nullable = false)\n",
      " |-- genre2: integer (nullable = false)\n",
      " |-- genre3: integer (nullable = false)\n",
      " |-- genre4: integer (nullable = false)\n",
      " |-- genre5: integer (nullable = false)\n",
      " |-- genre6: integer (nullable = false)\n",
      " |-- genre7: integer (nullable = false)\n",
      " |-- genre8: integer (nullable = false)\n",
      " |-- genre9: integer (nullable = false)\n",
      " |-- genre10: integer (nullable = false)\n",
      " |-- genre11: integer (nullable = false)\n",
      " |-- genre12: integer (nullable = false)\n",
      " |-- genre13: integer (nullable = false)\n",
      " |-- genre14: integer (nullable = false)\n",
      " |-- genre15: integer (nullable = false)\n",
      " |-- genre16: integer (nullable = false)\n",
      " |-- genre17: integer (nullable = false)\n",
      " |-- genre18: integer (nullable = false)\n",
      " |-- genre19: integer (nullable = false)\n",
      "\n",
      "+-------+--------------------+\n",
      "|summary|               genre|\n",
      "+-------+--------------------+\n",
      "|  count|               31108|\n",
      "|   mean|                null|\n",
      "| stddev|                null|\n",
      "|    min|[action, action/a...|\n",
      "|    max|      [world cinema]|\n",
      "+-------+--------------------+\n",
      "\n"
     ]
    }
   ],
   "source": [
    "#count number of rows of our dataFrame\n",
    "num_rows = df.count()\n",
    "print(\"number of rows: \", num_rows)\n",
    "\n",
    "#show our dataFrame schema\n",
    "df.printSchema()\n",
    "#show statistic of the data we want\n",
    "df.describe('genre').show()"
   ]
  },
  {
   "cell_type": "markdown",
   "metadata": {},
   "source": [
    "## Model"
   ]
  },
  {
   "cell_type": "code",
   "execution_count": 10,
   "metadata": {},
   "outputs": [],
   "source": [
    "from pyspark.ml.feature import StopWordsRemover, Tokenizer, VectorAssembler\n",
    "\n",
    "tokenizer = Tokenizer(inputCol='plot_normalized', outputCol=\"plot_normalized_temp\")\n",
    "plot_token_df = tokenizer.transform(df)\n",
    "plot_token_df = plot_token_df.drop(\"plot_normalized\")\n",
    "plot_token_df = plot_token_df.withColumnRenamed(\"plot_normalized_temp\", \"plot_normalized\")\n",
    "\n",
    "#Removing stop-words:\n",
    "remover = StopWordsRemover(inputCol='plot_normalized', outputCol='plot_normalized_temp')\n",
    "plot_token_df = remover.transform(plot_token_df)\n",
    "plot_token_df = plot_token_df.drop(\"plot_normalized\")\n",
    "plot_token_df = plot_token_df.withColumnRenamed(\"plot_normalized_temp\", \"plot_normalized\")"
   ]
  },
  {
   "cell_type": "code",
   "execution_count": 11,
   "metadata": {},
   "outputs": [
    {
     "name": "stdout",
     "output_type": "stream",
     "text": [
      "+--------+--------------------+--------------------+--------------------+------+------+------+------+------+------+------+------+------+------+-------+-------+-------+-------+-------+-------+-------+-------+-------+-------+--------------------+\n",
      "|movie_id|          movie_name|               genre|       genre_encoded|genre0|genre1|genre2|genre3|genre4|genre5|genre6|genre7|genre8|genre9|genre10|genre11|genre12|genre13|genre14|genre15|genre16|genre17|genre18|genre19|                plot|\n",
      "+--------+--------------------+--------------------+--------------------+------+------+------+------+------+------+------+------+------+------+-------+-------+-------+-------+-------+-------+-------+-------+-------+-------+--------------------+\n",
      "|23890098|          Taxi Blues|[drama, world cin...|10000100000000000000|     1|     0|     0|     0|     0|     1|     0|     0|     0|     0|      0|      0|      0|      0|      0|      0|      0|      0|      0|      0|[shlykov, hard, w...|\n",
      "|31186339|    The Hunger Games|[action, action/a...|10001000001000000100|     1|     0|     0|     0|     1|     0|     0|     0|     0|     0|      1|      0|      0|      0|      0|      0|      0|      1|      0|      0|[nation, panem, c...|\n",
      "|20663735|          Narasimham|[action, drama, m...|10001000000000001000|     1|     0|     0|     0|     1|     0|     0|     0|     0|     0|      0|      0|      0|      0|      0|      0|      1|      0|      0|      0|[poovalli, induch...|\n",
      "| 2231378|  The Lemon Drop Kid|            [comedy]|01000000000000000000|     0|     1|     0|     0|     0|     0|     0|     0|     0|     0|      0|      0|      0|      0|      0|      0|      0|      0|      0|      0|[lemon, drop, kid...|\n",
      "|  595909|   A Cry in the Dark|[crime fiction, d...|10000110000000000000|     1|     0|     0|     0|     0|     1|     1|     0|     0|     0|      0|      0|      0|      0|      0|      0|      0|      0|      0|      0|[seventh, day, ad...|\n",
      "| 5272176|            End Game|[action, action/a...|10011000001000000000|     1|     0|     0|     1|     1|     0|     0|     0|     0|     0|      1|      0|      0|      0|      0|      0|      0|      0|      0|      0|[president, way, ...|\n",
      "| 1952976|          Dark Water|[drama, horror, t...|10010001000000000000|     1|     0|     0|     1|     0|     0|     0|     1|     0|     0|      0|      0|      0|      0|      0|      0|      0|      0|      0|      0|[plot, film, open...|\n",
      "|24225279|                Sing|             [drama]|10000000000000000000|     1|     0|     0|     0|     0|     0|     0|     0|     0|     0|      0|      0|      0|      0|      0|      0|      0|      0|      0|      0|[story, begins, h...|\n",
      "| 2462689|       Meet John Doe|[black-and-white,...|11100000100000000001|     1|     1|     1|     0|     0|     0|     0|     0|     1|     0|      0|      0|      0|      0|      0|      0|      0|      0|      0|      1|[infuriated, told...|\n",
      "|20532852|Destination Meatball|[animation, famil...|00000000000011010000|     0|     0|     0|     0|     0|     0|     0|     0|     0|     0|      0|      0|      1|      1|      0|      1|      0|      0|      0|      0|[line, people, dr...|\n",
      "|15401493|    Husband for Hire|            [comedy]|01000000000000000000|     0|     1|     0|     0|     0|     0|     0|     0|     0|     0|      0|      0|      0|      0|      0|      0|      0|      0|      0|      0|[lola, attempts, ...|\n",
      "|18188932|         Up and Down|[comedy, crime fi...|11000110000000000000|     1|     1|     0|     0|     0|     1|     1|     0|     0|     0|      0|      0|      0|      0|      0|      0|      0|      0|      0|      0|[milan, goran, tw...|\n",
      "| 2940516|Ghost In The Noon...|            [comedy]|01000000000000000000|     0|     1|     0|     0|     0|     0|     0|     0|     0|     0|      0|      0|      0|      0|      0|      0|      0|      0|      0|      0|[bumbling, pirate...|\n",
      "| 1480747|       House Party 2|            [comedy]|01000000000000000000|     0|     1|     0|     0|     0|     0|     0|     0|     0|     0|      0|      0|      0|      0|      0|      0|      0|      0|      0|      0|[plot, following,...|\n",
      "|24448645|Forest of the Dam...|            [horror]|00000001000000000000|     0|     0|     0|     0|     0|     0|     0|     1|     0|     0|      0|      0|      0|      0|      0|      0|      0|      0|      0|      0|[despite, lucy, r...|\n",
      "|15072401|Charlie Chan's Se...|[crime fiction, h...|00010011000000000010|     0|     0|     0|     1|     0|     0|     1|     1|     0|     0|      0|      0|      0|      0|      0|      0|      0|      0|      1|      0|[alan, colby, hei...|\n",
      "| 4018288|     The Biggest Fan|             [drama]|10000000000000000000|     1|     0|     0|     0|     0|     0|     0|     0|     0|     0|      0|      0|      0|      0|      0|      0|      0|      0|      0|      0|[debbie, favorite...|\n",
      "| 4596602|      Ashes to Ashes|[action, crime fi...|00111010010000000000|     0|     0|     1|     1|     1|     0|     1|     0|     0|     1|      0|      0|      0|      0|      0|      0|      0|      0|      0|      0|[ashes, ashes, se...|\n",
      "|15224586|        Green Dragon|      [drama, indie]|10000000010000000000|     1|     0|     0|     0|     0|     0|     0|     0|     0|     1|      0|      0|      0|      0|      0|      0|      0|      0|      0|      0|[film, follows, e...|\n",
      "|15585766|  The Rats of Tobruk|             [drama]|10000000000000000000|     1|     0|     0|     0|     0|     0|     0|     0|     0|     0|      0|      0|      0|      0|      0|      0|      0|      0|      0|      0|[three, friends, ...|\n",
      "+--------+--------------------+--------------------+--------------------+------+------+------+------+------+------+------+------+------+------+-------+-------+-------+-------+-------+-------+-------+-------+-------+-------+--------------------+\n",
      "only showing top 20 rows\n",
      "\n"
     ]
    }
   ],
   "source": [
    "#creating a new dataframe to train our model on:\n",
    "training_df = plot_token_df\n",
    "\n",
    "training_df = training_df.drop(\"plot\")\n",
    "training_df = training_df.withColumnRenamed(\"plot_normalized\", \"plot\")\n",
    "\n",
    "training_df.show()"
   ]
  },
  {
   "cell_type": "markdown",
   "metadata": {},
   "source": [
    "### TF - IDF"
   ]
  },
  {
   "cell_type": "code",
   "execution_count": 12,
   "metadata": {},
   "outputs": [
    {
     "name": "stdout",
     "output_type": "stream",
     "text": [
      "+--------+--------------------+\n",
      "|movie_id|         TF_IDF_plot|\n",
      "+--------+--------------------+\n",
      "|23890098|(10000,[135,719,1...|\n",
      "|31186339|(10000,[15,26,47,...|\n",
      "|20663735|(10000,[52,74,104...|\n",
      "| 2231378|(10000,[52,76,77,...|\n",
      "|  595909|(10000,[15,91,137...|\n",
      "| 5272176|(10000,[52,158,20...|\n",
      "| 1952976|(10000,[15,104,14...|\n",
      "|24225279|(10000,[17,24,76,...|\n",
      "| 2462689|(10000,[1,15,67,7...|\n",
      "|20532852|(10000,[364,585,8...|\n",
      "|15401493|(10000,[76,100,15...|\n",
      "|18188932|(10000,[76,390,46...|\n",
      "| 2940516|(10000,[50,410,61...|\n",
      "| 1480747|(10000,[15,52,104...|\n",
      "|24448645|(10000,[87,141,81...|\n",
      "|15072401|(10000,[213,493,7...|\n",
      "| 4018288|(10000,[230,433,5...|\n",
      "| 4596602|(10000,[164,277,3...|\n",
      "|15224586|(10000,[273,306,3...|\n",
      "|15585766|(10000,[87,207,21...|\n",
      "+--------+--------------------+\n",
      "only showing top 20 rows\n",
      "\n"
     ]
    }
   ],
   "source": [
    "from pyspark.ml.feature import HashingTF, IDF, Tokenizer\n",
    "\n",
    "hashingTF = HashingTF(inputCol=\"plot\", outputCol=\"TF_plot\", numFeatures=10000) #numFeatures = max_features in tfidf_vectorizer\n",
    "featurizedData = hashingTF.transform(training_df)\n",
    "\n",
    "# alternatively, CountVectorizer can also be used to get term frequency vectors\n",
    "idf = IDF(inputCol=\"TF_plot\", outputCol=\"TF_IDF_plot\")\n",
    "idfModel = idf.fit(featurizedData)\n",
    "rescaledData = idfModel.transform(featurizedData)\n",
    "\n",
    "rescaledData.select(\"movie_id\", \"TF_IDF_plot\").show()"
   ]
  },
  {
   "cell_type": "markdown",
   "metadata": {},
   "source": [
    "### Building the actual model: Random Forest classifier"
   ]
  },
  {
   "cell_type": "code",
   "execution_count": 13,
   "metadata": {},
   "outputs": [
    {
     "name": "stdout",
     "output_type": "stream",
     "text": [
      "Accuracy for indie (genre9) prediction: 0.9042145593869731\n"
     ]
    }
   ],
   "source": [
    "import collections\n",
    "\n",
    "from pyspark.ml.evaluation import MulticlassClassificationEvaluator\n",
    "from pyspark.ml.classification import RandomForestClassifier\n",
    "\n",
    "\n",
    "movie_id_to_predictions = collections.defaultdict(list)\n",
    "trainingData, testData = rescaledData.randomSplit([0.8, 0.2])\n",
    "    \n",
    "for i in range(9, 10):\n",
    "    rf = RandomForestClassifier(labelCol=f\"genre{i}\", \\\n",
    "                                featuresCol=\"TF_IDF_plot\", \\\n",
    "                                predictionCol=f\"prediction{i}\", \\\n",
    "                                rawPredictionCol=f\"rawPrediction{i}\", \\\n",
    "                                probabilityCol=f\"probability{i}\", \\\n",
    "                                numTrees = 40, \\\n",
    "                                maxDepth = 4, \\\n",
    "                                maxBins = 32)# Train model with Training Data\n",
    "    \n",
    "    rfModel = rf.fit(trainingData)\n",
    "    predictions = rfModel.transform(testData)\n",
    "\n",
    "    movie_ith_genre_prediction = predictions.rdd.map(lambda p: (p.movie_id, p[f\"prediction{i}\"])).collect()\n",
    "        \n",
    "    for movie_id, prediction in movie_ith_genre_prediction:\n",
    "        movie_id_to_predictions[movie_id].append(int(prediction))\n",
    "    \n",
    "    evaluator = MulticlassClassificationEvaluator(labelCol=f\"genre{i}\", predictionCol=f\"prediction{i}\", metricName=\"accuracy\")\n",
    "    print(f\"Accuracy for {all_genres[i]} (genre{i}) prediction: {evaluator.evaluate(predictions)}\")\n",
    "    \n",
    "    # predictions.select(\"movie_name\", f\"genre{i}\", f\"prediction{i}\").show()"
   ]
  },
  {
   "cell_type": "markdown",
   "metadata": {},
   "source": [
    "### Reason why the code is wrong:\n",
    "The code snipped below doesnot print anything and hence it is proven that our code could not classify on the multi-label scale.\n",
    "All it did was predict one genre at a time."
   ]
  },
  {
   "cell_type": "code",
   "execution_count": 14,
   "metadata": {},
   "outputs": [],
   "source": [
    "for key, value in movie_id_to_predictions.items():\n",
    "    if sum(value) > 1:\n",
    "        print(f\"{key}: {value}\")"
   ]
  },
  {
   "cell_type": "code",
   "execution_count": null,
   "metadata": {},
   "outputs": [],
   "source": []
  }
 ],
 "metadata": {
  "kernelspec": {
   "display_name": "Python 3",
   "language": "python",
   "name": "python3"
  },
  "language_info": {
   "codemirror_mode": {
    "name": "ipython",
    "version": 3
   },
   "file_extension": ".py",
   "mimetype": "text/x-python",
   "name": "python",
   "nbconvert_exporter": "python",
   "pygments_lexer": "ipython3",
   "version": "3.7.4"
  }
 },
 "nbformat": 4,
 "nbformat_minor": 2
}
