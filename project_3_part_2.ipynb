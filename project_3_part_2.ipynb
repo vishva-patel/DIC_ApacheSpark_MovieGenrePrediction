{
 "cells": [
  {
   "cell_type": "code",
   "execution_count": 1,
   "metadata": {},
   "outputs": [],
   "source": [
    "# get spark\n",
    "import findspark\n",
    "findspark.init('/usr/local/Cellar/apache-spark/2.4.5/libexec')"
   ]
  },
  {
   "cell_type": "code",
   "execution_count": 2,
   "metadata": {},
   "outputs": [],
   "source": [
    "# import required files\n",
    "from pyspark.ml.feature import HashingTF, IDF\n",
    "from pyspark.ml.feature  import RegexTokenizer,StopWordsRemover,CountVectorizer\n",
    "from pyspark.mllib.regression import LabeledPoint\n",
    "from pyspark.mllib.classification import LogisticRegressionWithLBFGS, LogisticRegressionModel\n",
    "from pyspark.mllib.linalg import Vector as MLLibVector, Vectors as MLLibVectors\n",
    "import pandas as pd\n",
    "from pyspark.sql.functions import lower\n",
    "import pyspark\n",
    "from pyspark.sql import *\n",
    "from pyspark.sql.types import *\n",
    "import pyspark.sql.functions as f"
   ]
  },
  {
   "cell_type": "code",
   "execution_count": 3,
   "metadata": {},
   "outputs": [],
   "source": [
    "sc=pyspark.SparkContext()"
   ]
  },
  {
   "cell_type": "code",
   "execution_count": 4,
   "metadata": {},
   "outputs": [],
   "source": [
    "# create spark config\n",
    "spark= SparkSession \\\n",
    "       .builder \\\n",
    "       .appName(\"Assignment3\") \\\n",
    "       .config(\"spark.driver.memory\", \"4g\") \\\n",
    "       .config(\"spark.executor.memory\", \"4g\") \\\n",
    "       .getOrCreate() "
   ]
  },
  {
   "cell_type": "code",
   "execution_count": 5,
   "metadata": {},
   "outputs": [],
   "source": [
    "# read the input data (training, mapping and testing)\n",
    "train_dframe = pd.read_csv('train.csv')\n",
    "map_dframe = pd.read_csv('mapping.csv')\n",
    "test_dframe = pd.read_csv('test.csv')\n",
    "train_data = spark.createDataFrame(train_dframe)\n",
    "mapping_data = spark.createDataFrame(map_dframe,['id','genre'])\n",
    "test_data = spark.createDataFrame(test_dframe)"
   ]
  },
  {
   "cell_type": "code",
   "execution_count": 6,
   "metadata": {},
   "outputs": [
    {
     "name": "stdout",
     "output_type": "stream",
     "text": [
      "+--------+--------------------+--------------------+--------------------+\n",
      "|movie_id|          movie_name|                plot|               genre|\n",
      "+--------+--------------------+--------------------+--------------------+\n",
      "|23890098|          Taxi Blues|Shlykov, a hard-w...|['World cinema', ...|\n",
      "|31186339|    The Hunger Games|The nation of Pan...|['Action/Adventur...|\n",
      "|20663735|          Narasimham|Poovalli Induchoo...|['Musical', 'Acti...|\n",
      "| 2231378|  The Lemon Drop Kid|The Lemon Drop Ki...|          ['Comedy']|\n",
      "|  595909|   A Cry in the Dark|Seventh-day Adven...|['Crime Fiction',...|\n",
      "| 5272176|            End Game|The president is ...|['Action/Adventur...|\n",
      "| 1952976|          Dark Water|{{plot}} The film...|['Thriller', 'Dra...|\n",
      "|24225279|                Sing|The story begins ...|           ['Drama']|\n",
      "| 2462689|       Meet John Doe|Infuriated at bei...|['Black-and-white...|\n",
      "|20532852|Destination Meatball|A line of people ...|['Animation', 'Sh...|\n",
      "|15401493|    Husband for Hire|Lola  attempts to...|          ['Comedy']|\n",
      "|18188932|         Up and Down|Milan and Goran a...|['Crime Fiction',...|\n",
      "| 2940516|Ghost In The Noon...|Bumbling pirate c...|          ['Comedy']|\n",
      "| 1480747|       House Party 2|{{plot}} Followin...|          ['Comedy']|\n",
      "|24448645|Forest of the Dam...|Despite Lucy's re...|          ['Horror']|\n",
      "|15072401|Charlie Chan's Se...|Alan Colby, heir ...|['Crime Fiction',...|\n",
      "| 4018288|     The Biggest Fan|Debbie's favorite...|           ['Drama']|\n",
      "| 4596602|      Ashes to Ashes|Ashes to Ashes is...|['Crime Fiction',...|\n",
      "|15224586|        Green Dragon|The film follows ...|  ['Indie', 'Drama']|\n",
      "|15585766|  The Rats of Tobruk|Three friends are...|           ['Drama']|\n",
      "+--------+--------------------+--------------------+--------------------+\n",
      "only showing top 20 rows\n",
      "\n",
      "+--------+--------------------+--------------------+\n",
      "|movie_id|          movie_name|                plot|\n",
      "+--------+--------------------+--------------------+\n",
      "| 1335380|              Exodus|The film is based...|\n",
      "|29062594|A la salida nos v...|A group of teenag...|\n",
      "| 9252321|   Come Back, Africa|This story of a Z...|\n",
      "|13455076|       A Merry Mixup|The Stooges play ...|\n",
      "|24165951|        Getting Even|A soldier-of-fort...|\n",
      "| 1925869|  River of No Return|Set in the Northw...|\n",
      "|10799612|          Amici miei|Like in many othe...|\n",
      "|28238240|Mickey's Big Game...|Mickey and the Sc...|\n",
      "|17124781|The Good, the Bad...|In the desert wil...|\n",
      "|28207941|    The Dancing Fool|Bimbo and Koko ar...|\n",
      "|19174305|              Tahaan|Tahaan  lives wit...|\n",
      "|18392317|     Mysterious Mose|Betty is startled...|\n",
      "|34420857|Kelviyum Naane Pa...|Nirmal ([[Karthik...|\n",
      "| 4039635|   First on the Moon|A group of journa...|\n",
      "| 8034072|  Journey of a Woman|Vaibhavari Sahay,...|\n",
      "| 4016437|     Sophie's Choice|In 1947, the movi...|\n",
      "| 1520023|  Ninja Resurrection|Ninja Resurrectio...|\n",
      "|24589422|      Maria’s Lovers|In the spring of ...|\n",
      "|35068740|           Chinnavar|Muthu ([[Prabhu  ...|\n",
      "|21132951|              Aparan|Vishwanathan , an...|\n",
      "+--------+--------------------+--------------------+\n",
      "only showing top 20 rows\n",
      "\n"
     ]
    }
   ],
   "source": [
    "# Display the details of input data\n",
    "train_data.show()\n",
    "test_data.show()\n",
    "genre_count = mapping_data.count()"
   ]
  },
  {
   "cell_type": "code",
   "execution_count": 7,
   "metadata": {},
   "outputs": [
    {
     "name": "stdout",
     "output_type": "stream",
     "text": [
      "+--------+--------------------+\n",
      "|movie_id|                 clr|\n",
      "+--------+--------------------+\n",
      "|23890098|[shlykov, hard, w...|\n",
      "|31186339|[nation, panem, c...|\n",
      "|20663735|[poovalli, induch...|\n",
      "| 2231378|[lemon, drop, kid...|\n",
      "|  595909|[seventh, day, ad...|\n",
      "| 5272176|[president, way, ...|\n",
      "| 1952976|[plot, film, open...|\n",
      "|24225279|[story, begins, h...|\n",
      "| 2462689|[infuriated, told...|\n",
      "|20532852|[line, people, dr...|\n",
      "|15401493|[lola, attempts, ...|\n",
      "|18188932|[milan, goran, tw...|\n",
      "| 2940516|[bumbling, pirate...|\n",
      "| 1480747|[plot, following,...|\n",
      "|24448645|[despite, lucy, r...|\n",
      "|15072401|[alan, colby, hei...|\n",
      "| 4018288|[debbie, favorite...|\n",
      "| 4596602|[ashes, ashes, se...|\n",
      "|15224586|[film, follows, e...|\n",
      "|15585766|[three, friends, ...|\n",
      "+--------+--------------------+\n",
      "only showing top 20 rows\n",
      "\n"
     ]
    }
   ],
   "source": [
    "# remove stopwords and transform training data into required format\n",
    "tokenizer = RegexTokenizer(inputCol = \"plot\", outputCol = \"ptok\",pattern=\"\\\\w+\", gaps=False)\n",
    "train_data = tokenizer.transform(train_data)\n",
    "remover = StopWordsRemover(inputCol = \"ptok\", outputCol = \"clr\")\n",
    "train_data = remover.transform(train_data)\n",
    "train_data.select('movie_id','clr').show()\n",
    "\n",
    "htf = HashingTF(inputCol=\"clr\", outputCol=\"HTFfeature\")\n",
    "train_data = htf.transform(train_data)\n",
    "idf_train = IDF(inputCol=\"HTFfeature\", outputCol=\"feature\")\n",
    "idf_train_model = idf_train.fit(train_data)\n",
    "train_data = idf_train_model.transform(train_data)"
   ]
  },
  {
   "cell_type": "code",
   "execution_count": 8,
   "metadata": {},
   "outputs": [
    {
     "name": "stdout",
     "output_type": "stream",
     "text": [
      "+--------+--------------------+\n",
      "|movie_id|             feature|\n",
      "+--------+--------------------+\n",
      "| 1335380|(262144,[1728,261...|\n",
      "|29062594|(262144,[6068,191...|\n",
      "| 9252321|(262144,[1598,208...|\n",
      "|13455076|(262144,[3294,618...|\n",
      "|24165951|(262144,[4098,644...|\n",
      "| 1925869|(262144,[535,3294...|\n",
      "|10799612|(262144,[5053,538...|\n",
      "|28238240|(262144,[23060,30...|\n",
      "|17124781|(262144,[5232,733...|\n",
      "|28207941|(262144,[9726,626...|\n",
      "|19174305|(262144,[2710,392...|\n",
      "|18392317|(262144,[5213,606...|\n",
      "|34420857|(262144,[11275,13...|\n",
      "| 4039635|(262144,[571,1640...|\n",
      "| 8034072|(262144,[991,4200...|\n",
      "| 4016437|(262144,[5595,783...|\n",
      "| 1520023|(262144,[14,535,5...|\n",
      "|24589422|(262144,[1998,249...|\n",
      "|35068740|(262144,[2710,484...|\n",
      "|21132951|(262144,[1841,392...|\n",
      "+--------+--------------------+\n",
      "only showing top 20 rows\n",
      "\n"
     ]
    }
   ],
   "source": [
    "# transform test data into required format\n",
    "test_data = tokenizer.transform(test_data)\n",
    "test_data = remover.transform(test_data)\n",
    "test_data = htf.transform(test_data)\n",
    "idf_test = IDF(inputCol = \"HTFfeature\", outputCol=\"feature\")\n",
    "idf_test_model = idf_test.fit(test_data)\n",
    "test_data = idf_test_model.transform(test_data)\n",
    "test_data.select(\"movie_id\",\"feature\").show()"
   ]
  },
  {
   "cell_type": "code",
   "execution_count": 9,
   "metadata": {},
   "outputs": [
    {
     "name": "stdout",
     "output_type": "stream",
     "text": [
      "+----------------+\n",
      "|          mapped|\n",
      "+----------------+\n",
      "|          [0, 5]|\n",
      "|  [0, 4, 10, 17]|\n",
      "|      [0, 4, 16]|\n",
      "|             [1]|\n",
      "|       [0, 5, 6]|\n",
      "|   [0, 3, 4, 10]|\n",
      "|       [0, 3, 7]|\n",
      "|             [0]|\n",
      "|[0, 1, 2, 8, 19]|\n",
      "|    [12, 13, 15]|\n",
      "|             [1]|\n",
      "|    [0, 1, 5, 6]|\n",
      "|             [1]|\n",
      "|             [1]|\n",
      "|             [7]|\n",
      "|   [3, 6, 7, 18]|\n",
      "|             [0]|\n",
      "| [2, 3, 4, 6, 9]|\n",
      "|          [0, 9]|\n",
      "|             [0]|\n",
      "+----------------+\n",
      "only showing top 20 rows\n",
      "\n",
      "+--------------------+\n",
      "|               label|\n",
      "+--------------------+\n",
      "|[1, 0, 0, 0, 0, 1...|\n",
      "|[1, 0, 0, 0, 1, 0...|\n",
      "|[1, 0, 0, 0, 1, 0...|\n",
      "|[0, 1, 0, 0, 0, 0...|\n",
      "|[1, 0, 0, 0, 0, 1...|\n",
      "|[1, 0, 0, 1, 1, 0...|\n",
      "|[1, 0, 0, 1, 0, 0...|\n",
      "|[1, 0, 0, 0, 0, 0...|\n",
      "|[1, 1, 1, 0, 0, 0...|\n",
      "|[0, 0, 0, 0, 0, 0...|\n",
      "|[0, 1, 0, 0, 0, 0...|\n",
      "|[1, 1, 0, 0, 0, 1...|\n",
      "|[0, 1, 0, 0, 0, 0...|\n",
      "|[0, 1, 0, 0, 0, 0...|\n",
      "|[0, 0, 0, 0, 0, 0...|\n",
      "|[0, 0, 0, 1, 0, 0...|\n",
      "|[1, 0, 0, 0, 0, 0...|\n",
      "|[0, 0, 1, 1, 1, 0...|\n",
      "|[1, 0, 0, 0, 0, 0...|\n",
      "|[1, 0, 0, 0, 0, 0...|\n",
      "+--------------------+\n",
      "only showing top 20 rows\n",
      "\n"
     ]
    }
   ],
   "source": [
    "# multilable classification for genre\n",
    "mapper_details = mapping_data.select(\"genre\",\"id\").rdd.collectAsMap()\n",
    "\n",
    "def genreMapSplit(mapper_obj):\n",
    "    result = []\n",
    "    for element in mapper_obj[1:-1].split(\",\"):\n",
    "        result.append(mapper_details.get(element.strip()[1:-1]))\n",
    "    result.sort()\n",
    "    return result\n",
    "\n",
    "def resultMapLabel(mapper_obj):\n",
    "    result = []\n",
    "    for index in range(0,genre_count):\n",
    "        result.append(0)\n",
    "    for index in mapper_obj:\n",
    "        result[index] = 1\n",
    "    return result\n",
    "\n",
    "# Mapped data\n",
    "udf_genre = f.udf(genreMapSplit,ArrayType(IntegerType()))\n",
    "train_data = train_data.withColumn(\"mapped\",udf_genre(\"genre\"))\n",
    "train_data.select(\"mapped\").show()\n",
    "\n",
    "# Labelled data\n",
    "udf_label = f.udf(resultMapLabel,ArrayType(IntegerType()))\n",
    "train_data = train_data.withColumn(\"label\",udf_label(\"mapped\"))\n",
    "train_data.select(\"label\").show()\n"
   ]
  },
  {
   "cell_type": "code",
   "execution_count": 11,
   "metadata": {},
   "outputs": [
    {
     "name": "stdout",
     "output_type": "stream",
     "text": [
      "Finished processing genere 0\n",
      "Finished processing genere 1\n",
      "Finished processing genere 2\n",
      "Finished processing genere 3\n",
      "Finished processing genere 4\n",
      "Finished processing genere 5\n",
      "Finished processing genere 6\n",
      "Finished processing genere 7\n",
      "Finished processing genere 8\n",
      "Finished processing genere 9\n",
      "Finished processing genere 10\n",
      "Finished processing genere 11\n",
      "Finished processing genere 12\n",
      "Finished processing genere 13\n",
      "Finished processing genere 14\n",
      "Finished processing genere 15\n",
      "Finished processing genere 16\n",
      "Finished processing genere 17\n",
      "Finished processing genere 18\n",
      "Finished processing genere 19\n"
     ]
    }
   ],
   "source": [
    "# final output\n",
    "final_result = []\n",
    "for index in range(0, genre_count):\n",
    "    def parsePoint(row):\n",
    "        return LabeledPoint(row.label[index], MLLibVectors.fromML(row.feature))\n",
    "    labelled_output = train_data.rdd.map(parsePoint)\n",
    "    modelpred = LogisticRegressionWithLBFGS.train(labelled_output)\n",
    "    pred = test_data.rdd.map(lambda t: (t.movie_id, modelpred.predict(MLLibVectors.fromML(t.feature))))\n",
    "    final_result.append(pred.collect())\n",
    "    print(f\"Finished processing genere {index}\")\n",
    "\n",
    "final_result_obj = {}\n",
    "for element in final_result:\n",
    "    for temp in element:\n",
    "        if temp[0] not in final_result_obj:\n",
    "            final_result_obj[temp[0]]=[]\n",
    "            final_result_obj[temp[0]].append(int(temp[1]))\n",
    "        else:\n",
    "            final_result_obj[temp[0]].append(int(temp[1]))\n",
    "\n",
    "for key in final_result_obj:\n",
    "    print(key,final_result_obj[key])"
   ]
  },
  {
   "cell_type": "code",
   "execution_count": 15,
   "metadata": {},
   "outputs": [],
   "source": [
    "# csv files\n",
    "df = pd.DataFrame.from_dict(final_result_obj,orient='index')\n",
    "df.index.names = ['movie_id']\n",
    "df['predictions'] = df[df.columns[:]].apply(lambda x: ' '.join(x.dropna().astype(str)),axis=1)\n",
    "df.to_csv('final_csv_ans_part2.csv',columns = ['predictions'])"
   ]
  },
  {
   "cell_type": "code",
   "execution_count": null,
   "metadata": {},
   "outputs": [],
   "source": []
  }
 ],
 "metadata": {
  "kernelspec": {
   "display_name": "Python 3",
   "language": "python",
   "name": "python3"
  },
  "language_info": {
   "codemirror_mode": {
    "name": "ipython",
    "version": 3
   },
   "file_extension": ".py",
   "mimetype": "text/x-python",
   "name": "python",
   "nbconvert_exporter": "python",
   "pygments_lexer": "ipython3",
   "version": "3.7.4"
  }
 },
 "nbformat": 4,
 "nbformat_minor": 2
}
